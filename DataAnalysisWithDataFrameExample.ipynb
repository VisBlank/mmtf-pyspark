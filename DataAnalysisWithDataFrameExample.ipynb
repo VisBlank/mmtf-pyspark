{
 "cells": [
  {
   "cell_type": "markdown",
   "metadata": {},
   "source": [
    "# Example of using PySpark to do data analysis with dataframe"
   ]
  },
  {
   "cell_type": "markdown",
   "metadata": {},
   "source": [
    "## Imports and variables"
   ]
  },
  {
   "cell_type": "code",
   "execution_count": 1,
   "metadata": {
    "collapsed": false,
    "scrolled": true
   },
   "outputs": [],
   "source": [
    "from pyspark import SparkConf, SparkContext                    \n",
    "from mmtfPyspark.io import MmtfReader                                \n",
    "from mmtfPyspark.webfilters import pisces                        \n",
    "from mmtfPyspark.datasets import groupInteractionExtractor\n",
    "import py3Dmol\n",
    "import time\n",
    "                                                               \n",
    "# Create variables                                             \n",
    "APP_NAME = \"MMTF_Spark\"                                        \n",
    "path = \"./resources/mmtf_full_sample/\"                            \n",
    "                                                               \n",
    "# Configure Spark                                              \n",
    "conf = SparkConf().setAppName(APP_NAME).setMaster(\"local[*]\")  \n",
    "sc = SparkContext(conf=conf)                                   "
   ]
  },
  {
   "cell_type": "markdown",
   "metadata": {},
   "source": [
    "## Read PDB and create PISCES non-redundant set"
   ]
  },
  {
   "cell_type": "code",
   "execution_count": 2,
   "metadata": {
    "collapsed": false
   },
   "outputs": [],
   "source": [
    "pdb = MmtfReader.readSequenceFile(path, sc)\n",
    "pdb = pdb.filter(pisces(sequenceIdentity = 20, resolution = 2.0))         "
   ]
  },
  {
   "cell_type": "markdown",
   "metadata": {},
   "source": [
    "## Extract Zinc interactions"
   ]
  },
  {
   "cell_type": "code",
   "execution_count": 3,
   "metadata": {
    "collapsed": false
   },
   "outputs": [
    {
     "name": "stdout",
     "output_type": "stream",
     "text": [
      "+-----------+--------+-----+--------+------+--------+-----+--------+------+---------+\n",
      "|structureId|residue1|atom1|element1|index1|residue2|atom2|element2|index2| distance|\n",
      "+-----------+--------+-----+--------+------+--------+-----+--------+------+---------+\n",
      "|       1FN9|      ZN|   ZN|      Zn|   730|     CYS|   SG|       S|    50|2.3709755|\n",
      "|       1FN9|      ZN|   ZN|      Zn|   730|     CYS|   SG|       S|    53|2.3940797|\n",
      "|       1FN9|      ZN|   ZN|      Zn|   730|     HIS|  NE2|       N|    70|2.2196307|\n",
      "|       1FN9|      ZN|   ZN|      Zn|   730|     CYS|   SG|       S|    72|2.3465357|\n",
      "|       1FN9|      ZN|   ZN|      Zn|   731|     CYS|   SG|       S|   415|2.3747551|\n",
      "|       1FN9|      ZN|   ZN|      Zn|   731|     CYS|   SG|       S|   418|2.3680198|\n",
      "|       1FN9|      ZN|   ZN|      Zn|   731|     HIS|  NE2|       N|   435|2.1647959|\n",
      "|       1FN9|      ZN|   ZN|      Zn|   731|     CYS|   SG|       S|   437|2.3763454|\n",
      "|       1A73|      ZN|   ZN|      Zn|   366|     CYS|   SG|       S|   165|2.3760905|\n",
      "|       1A73|      ZN|   ZN|      Zn|   366|     CYS|   SG|       S|   172|2.4604716|\n",
      "+-----------+--------+-----+--------+------+--------+-----+--------+------+---------+\n",
      "only showing top 10 rows\n",
      "\n"
     ]
    }
   ],
   "source": [
    "finder = groupInteractionExtractor(\"ZN\", distance = 3.0)       \n",
    "interactions = finder.getDataset(pdb)\n",
    "interactions.show(10)"
   ]
  },
  {
   "cell_type": "markdown",
   "metadata": {},
   "source": [
    "## Visualize first hit"
   ]
  },
  {
   "cell_type": "code",
   "execution_count": 4,
   "metadata": {
    "collapsed": false
   },
   "outputs": [
    {
     "data": {
      "text/html": [
       "<div id=\"3dmolviewer_15156083507484908\"  style=\"position: relative; width: 640px; height: 480px\">\n",
       "<script>\n",
       "if(typeof $3Dmolpromise === 'undefined') $3Dmolpromise = $.when($.getScript('https://3dmol.csb.pitt.edu/build/3Dmol.js'))\n",
       "var viewer_15156083507484908 = null;\n",
       "$3Dmolpromise.done(function() {\n",
       "viewer_15156083507484908 = $3Dmol.createViewer($(\"#3dmolviewer_15156083507484908\"),{backgroundColor:\"white\"});\n",
       "$3Dmol.download(\"pdb:1FN9\", viewer_15156083507484908, {}, function() {\n",
       "\tviewer_15156083507484908.setStyle({\"cartoon\": {\"color\": \"spectrum\"}});\n",
       "\tviewer_15156083507484908.setStyle({\"atom\": \"ZN\"},{\"sphere\": {\"color\": \"gray\"}});\n",
       "viewer_15156083507484908.render();\n",
       "})\n",
       "});\n",
       "</script>"
      ],
      "text/plain": [
       "<IPython.core.display.HTML object>"
      ]
     },
     "execution_count": 4,
     "metadata": {},
     "output_type": "execute_result"
    }
   ],
   "source": [
    "hit = interactions.first()[0]\n",
    "view = py3Dmol.view(query='pdb:%s'%hit)\n",
    "view.setStyle({'cartoon': {'color':'spectrum'}})\n",
    "view.setStyle({'atom':'ZN'},{'sphere': {'color':'gray'}})\n",
    "view.show()"
   ]
  },
  {
   "cell_type": "markdown",
   "metadata": {},
   "source": [
    "## Show top 5 interacting groups                           \n"
   ]
  },
  {
   "cell_type": "code",
   "execution_count": 5,
   "metadata": {
    "collapsed": false
   },
   "outputs": [
    {
     "name": "stdout",
     "output_type": "stream",
     "text": [
      "+--------+-----+\n",
      "|residue2|count|\n",
      "+--------+-----+\n",
      "|     CYS|   19|\n",
      "|     HIS|   14|\n",
      "|     HOH|   10|\n",
      "|     ASP|    5|\n",
      "|     GLU|    5|\n",
      "|     TRP|    2|\n",
      "|     VAL|    2|\n",
      "|      CL|    1|\n",
      "+--------+-----+\n",
      "\n",
      "Total time: 0 minute(s) , 4 seconds\n"
     ]
    }
   ],
   "source": [
    "start = time.time()\n",
    "interactions.filter(\"element2 != 'C'\").groupBy(\"residue2\").count().sort(\"count\", ascending=False).show(10)\n",
    "end = time.time()\n",
    "m,s = divmod(end-start, 60)\n",
    "print(\"Total time: %i minute(s) , %i seconds\"%(m,s))"
   ]
  },
  {
   "cell_type": "code",
   "execution_count": 6,
   "metadata": {
    "collapsed": true
   },
   "outputs": [],
   "source": [
    "sc.stop()"
   ]
  }
 ],
 "metadata": {
  "kernelspec": {
   "display_name": "Python 3",
   "language": "python",
   "name": "python3"
  },
  "language_info": {
   "codemirror_mode": {
    "name": "ipython",
    "version": 3
   },
   "file_extension": ".py",
   "mimetype": "text/x-python",
   "name": "python",
   "nbconvert_exporter": "python",
   "pygments_lexer": "ipython3",
   "version": "3.6.0"
  }
 },
 "nbformat": 4,
 "nbformat_minor": 2
}
