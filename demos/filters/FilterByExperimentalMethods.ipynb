{
 "cells": [
  {
   "cell_type": "markdown",
   "metadata": {},
   "source": [
    "# Filter By Experimental Methods Demo\n",
    "\n",
    "Example how to filter PDB entries by experimental methods.\n",
    "\n",
    "\n",
    "[To learn more about experimental methods](http://pdb101.rcsb.org/learn/guide-to-understanding-pdb-data/methods-for-determining-structure)\n",
    "\n",
    "\n",
    "## Imports"
   ]
  },
  {
   "cell_type": "code",
   "execution_count": 1,
   "metadata": {
    "collapsed": true
   },
   "outputs": [],
   "source": [
    "from pyspark import SparkConf, SparkContext\n",
    "from mmtfPyspark.io import MmtfReader\n",
    "from mmtfPyspark.filters import experimentalMethods"
   ]
  },
  {
   "cell_type": "markdown",
   "metadata": {},
   "source": [
    "## Configure Spark"
   ]
  },
  {
   "cell_type": "code",
   "execution_count": 2,
   "metadata": {
    "collapsed": true
   },
   "outputs": [],
   "source": [
    "conf = SparkConf().setMaster(\"local[*]\") \\\n",
    "                      .setAppName(\"FilterByExperimentalMethods\")\n",
    "sc = SparkContext(conf = conf)"
   ]
  },
  {
   "cell_type": "markdown",
   "metadata": {},
   "source": [
    "## Read in MMTF Files"
   ]
  },
  {
   "cell_type": "code",
   "execution_count": 3,
   "metadata": {
    "collapsed": true
   },
   "outputs": [],
   "source": [
    "path = \"../../resources/mmtf_reduced_sample/\"\n",
    "\n",
    "pdb = MmtfReader.readSequenceFile(path, sc)"
   ]
  },
  {
   "cell_type": "markdown",
   "metadata": {},
   "source": [
    "## Filter by experimental methods\n",
    "\n",
    "#### List of supported experimental methods\n",
    "\n",
    "* experimentalMethods.ELECTRON_CRYSTALLOGRAPHY\n",
    "* experimentalMethods.ELECTRON_MICROSCOPY\n",
    "* experimentalMethods.ERP\n",
    "* experimentalMethods.FIBER_DIFFRACTION\n",
    "* experimentalMethods.FLUORESCENCE_TRANSFER\n",
    "* experimentalMethods.INFRARED_SPECTROSCOPY\n",
    "* experimentalMethods.NEUTRON_DIFFRACTION\n",
    "* experimentalMethods.POWDER_DIFFRACTION\n",
    "* experimentalMethods.SOLID_STATE_NMR\n",
    "* experimentalMethods.SOLUTION_NMR\n",
    "* experimentalMethods.SOLUTION_SCATTERING\n",
    "* experimentalMethods.THEORETICAL_MODEL\n",
    "* experimentalMethods.X_RAY_DIFFRACTION"
   ]
  },
  {
   "cell_type": "code",
   "execution_count": 7,
   "metadata": {
    "collapsed": false
   },
   "outputs": [],
   "source": [
    "pdb = pdb.filter(experimentalMethods(experimentalMethods.NEUTRON_DIFFRACTION, experimentalMethods.X_RAY_DIFFRACTION))"
   ]
  },
  {
   "cell_type": "markdown",
   "metadata": {},
   "source": [
    "## Print out entries"
   ]
  },
  {
   "cell_type": "code",
   "execution_count": 11,
   "metadata": {
    "collapsed": false
   },
   "outputs": [
    {
     "name": "stdout",
     "output_type": "stream",
     "text": [
      "['5CCE', '5JPC', '5K1Z', '5E5J', '5E5K', '5EBJ', '4PVM', '4PVN', '5C6E', '5C8I', '3VXF', '4JEC', '5A93', '5TKI', '5WEY', '5CCD', '5CE4', '3QZA', '4CVI', '5MON', '5MOO', '5DPN', '5CG5', '5CG6', '3QBA', '5KWF', '4GPG', '3KYX', '3KYY', '3L45', '5XPE', '4CVJ', '4LNC', '3R98', '3R99', '4DVO', '4QXK', '3X2O', '3X2P', '3BYC', '4NY6', '3HGN', '5T8H', '3INS', '4QCD', '4QDP', '4QDW', '3TMJ', '4S2D', '4S2F', '4S2G', '4S2H', '3OTJ', '3KCJ', '3KCL', '3KCO', '2R24', '5JPR', '4PDJ', '4XPV', '5PTI', '5RSA', '4N3M', '4N9M']\n"
     ]
    }
   ],
   "source": [
    "filtered_proteins = pdb.keys().collect()\n",
    "\n",
    "print(filtered_proteins)"
   ]
  },
  {
   "cell_type": "markdown",
   "metadata": {},
   "source": [
    "## Terminate Spark "
   ]
  },
  {
   "cell_type": "code",
   "execution_count": 12,
   "metadata": {
    "collapsed": true
   },
   "outputs": [],
   "source": [
    "sc.stop()"
   ]
  },
  {
   "cell_type": "code",
   "execution_count": null,
   "metadata": {
    "collapsed": true
   },
   "outputs": [],
   "source": []
  }
 ],
 "metadata": {
  "kernelspec": {
   "display_name": "Python 3",
   "language": "python",
   "name": "python3"
  },
  "language_info": {
   "codemirror_mode": {
    "name": "ipython",
    "version": 3
   },
   "file_extension": ".py",
   "mimetype": "text/x-python",
   "name": "python",
   "nbconvert_exporter": "python",
   "pygments_lexer": "ipython3",
   "version": "3.6.0"
  }
 },
 "nbformat": 4,
 "nbformat_minor": 2
}
