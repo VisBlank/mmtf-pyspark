{
 "cells": [
  {
   "cell_type": "markdown",
   "metadata": {},
   "source": [
    "# Simple Zinc Interaction Analysis Example\n",
    "\n",
    "<img src=\"./figures/zinc_interaction.png\" style=\"width: 300px;\"/>\n",
    "\n",
    "## Imports"
   ]
  },
  {
   "cell_type": "code",
   "execution_count": 1,
   "metadata": {
    "collapsed": false
   },
   "outputs": [],
   "source": [
    "from pyspark import SparkConf, SparkContext\n",
    "from mmtfPyspark.datasets import groupInteractionExtractor\n",
    "from mmtfPyspark.io import MmtfReader\n",
    "from mmtfPyspark.webfilters import blastCluster"
   ]
  },
  {
   "cell_type": "markdown",
   "metadata": {},
   "source": [
    "## Configure Spark"
   ]
  },
  {
   "cell_type": "code",
   "execution_count": 2,
   "metadata": {
    "collapsed": true
   },
   "outputs": [],
   "source": [
    "conf = SparkConf().setMaster(\"local[*]\") \\\n",
    "                  .setAppName(\"simpleZincInteractionDemo\")\n",
    "\n",
    "sc = SparkContext(conf = conf)"
   ]
  },
  {
   "cell_type": "markdown",
   "metadata": {},
   "source": [
    "## Read PDB in MMTF format"
   ]
  },
  {
   "cell_type": "code",
   "execution_count": 3,
   "metadata": {
    "collapsed": true
   },
   "outputs": [],
   "source": [
    "path = \"../../resources/mmtf_full_sample/\"\n",
    "\n",
    "pdb = MmtfReader.readSequenceFile(path, sc)"
   ]
  },
  {
   "cell_type": "markdown",
   "metadata": {},
   "source": [
    "# Use only representative structures"
   ]
  },
  {
   "cell_type": "code",
   "execution_count": 4,
   "metadata": {
    "collapsed": true
   },
   "outputs": [],
   "source": [
    "sequenceIdentity = 40\n",
    "\n",
    "pdb = pdb.filter(blastCluster(sequenceIdentity))"
   ]
  },
  {
   "cell_type": "markdown",
   "metadata": {},
   "source": [
    "## Extract proteins with Zn interactions"
   ]
  },
  {
   "cell_type": "code",
   "execution_count": 5,
   "metadata": {
    "collapsed": false
   },
   "outputs": [],
   "source": [
    "finder = groupInteractionExtractor(\"ZN\",3)\n",
    "\n",
    "interactions = finder.getDataset(pdb).cache()"
   ]
  },
  {
   "cell_type": "markdown",
   "metadata": {},
   "source": [
    "## List the top 10 residue types that interact with Zn"
   ]
  },
  {
   "cell_type": "code",
   "execution_count": 6,
   "metadata": {
    "collapsed": false
   },
   "outputs": [
    {
     "name": "stdout",
     "output_type": "stream",
     "text": [
      "root\n",
      " |-- structureId: string (nullable = false)\n",
      " |-- residue1: string (nullable = false)\n",
      " |-- atom1: string (nullable = false)\n",
      " |-- element1: string (nullable = false)\n",
      " |-- index1: integer (nullable = false)\n",
      " |-- residue2: string (nullable = false)\n",
      " |-- atom2: string (nullable = false)\n",
      " |-- element2: string (nullable = false)\n",
      " |-- index2: integer (nullable = false)\n",
      " |-- distance: float (nullable = false)\n",
      "\n",
      "+-----------+--------+-----+--------+------+--------+-----+--------+------+---------+\n",
      "|structureId|residue1|atom1|element1|index1|residue2|atom2|element2|index2| distance|\n",
      "+-----------+--------+-----+--------+------+--------+-----+--------+------+---------+\n",
      "|       5B4E|      ZN|   ZN|      Zn|   303|     CYS|   SG|       S|     1|2.1902573|\n",
      "|       5B4E|      ZN|   ZN|      Zn|   303|     CYS|   SG|       S|     4| 2.206233|\n",
      "|       5B4E|      ZN|   ZN|      Zn|   303|     CYS|   SG|       S|    20|2.2135682|\n",
      "|       5B4E|      ZN|   ZN|      Zn|   303|     HIS|  ND1|       N|    23|2.1949353|\n",
      "|       5B4E|      ZN|   ZN|      Zn|   304|     CYS|   SG|       S|   258|2.4936273|\n",
      "|       5B4E|      ZN|   ZN|      Zn|   304|     CYS|   SG|       S|   261|  2.36105|\n",
      "|       5B4E|      ZN|   ZN|      Zn|   304|     CYS|   SG|       S|   270|2.2928994|\n",
      "|       5B4E|      ZN|   ZN|      Zn|   304|     CYS|   SG|       S|   273|2.3168228|\n",
      "|       5B4F|      ZN|   ZN|      Zn|   300|     CYS|   SG|       S|     1|2.2269914|\n",
      "|       5B4F|      ZN|   ZN|      Zn|   300|     CYS|   SG|       S|     4|2.2522612|\n",
      "|       5B4F|      ZN|   ZN|      Zn|   300|     CYS|   SG|       S|    20|2.2537496|\n",
      "|       5B4F|      ZN|   ZN|      Zn|   300|     HIS|  ND1|       N|    23|2.1646144|\n",
      "|       5B4F|      ZN|   ZN|      Zn|   301|     CYS|   SG|       S|   251|2.4191225|\n",
      "|       5B4F|      ZN|   ZN|      Zn|   301|     CYS|   SG|       S|   254|2.4240537|\n",
      "|       5B4F|      ZN|   ZN|      Zn|   301|     CYS|   SG|       S|   263|2.2808423|\n",
      "|       5B4F|      ZN|   ZN|      Zn|   301|     CYS|   SG|       S|   266|2.3353205|\n",
      "|       5GHA|      ZN|   ZN|      Zn|  1476|     CYS|   SG|       S|     1|2.3824308|\n",
      "|       5GHA|      ZN|   ZN|      Zn|  1476|     CYS|   SG|       S|     4| 2.469724|\n",
      "|       5GHA|      ZN|   ZN|      Zn|  1476|     CYS|   SG|       S|    20|2.3553555|\n",
      "|       5GHA|      ZN|   ZN|      Zn|  1476|     HIS|  ND1|       N|    23|2.1817138|\n",
      "+-----------+--------+-----+--------+------+--------+-----+--------+------+---------+\n",
      "only showing top 20 rows\n",
      "\n",
      "Number of interactions: 213725\n"
     ]
    }
   ],
   "source": [
    "interactions.printSchema()\n",
    "\n",
    "interactions.show(20)\n",
    "\n",
    "print(f\"Number of interactions: {interactions.count()}\")"
   ]
  },
  {
   "cell_type": "markdown",
   "metadata": {},
   "source": [
    "## Show the top 10 interacting groups"
   ]
  },
  {
   "cell_type": "code",
   "execution_count": 9,
   "metadata": {
    "collapsed": false
   },
   "outputs": [
    {
     "name": "stdout",
     "output_type": "stream",
     "text": [
      "+--------+-----+\n",
      "|residue2|count|\n",
      "+--------+-----+\n",
      "|     CYS|67046|\n",
      "|     HIS|66364|\n",
      "|     ASP|24930|\n",
      "|     GLU|18801|\n",
      "|     HOH|14733|\n",
      "|     ACT| 1186|\n",
      "|     LYS|  921|\n",
      "|     KCX|  794|\n",
      "|      CL|  753|\n",
      "|     PO4|  687|\n",
      "+--------+-----+\n",
      "only showing top 10 rows\n",
      "\n"
     ]
    }
   ],
   "source": [
    "interactions.groupBy(\"residue2\") \\\n",
    "            .count() \\\n",
    "            .sort(\"count\", ascending = False) \\\n",
    "            .show(10)"
   ]
  },
  {
   "cell_type": "markdown",
   "metadata": {
    "collapsed": true
   },
   "source": [
    "## Terminate Spark"
   ]
  },
  {
   "cell_type": "code",
   "execution_count": null,
   "metadata": {
    "collapsed": true
   },
   "outputs": [],
   "source": [
    "sc.stop()"
   ]
  }
 ],
 "metadata": {
  "kernelspec": {
   "display_name": "Python 3",
   "language": "python",
   "name": "python3"
  },
  "language_info": {
   "codemirror_mode": {
    "name": "ipython",
    "version": 3
   },
   "file_extension": ".py",
   "mimetype": "text/x-python",
   "name": "python",
   "nbconvert_exporter": "python",
   "pygments_lexer": "ipython3",
   "version": "3.6.0"
  }
 },
 "nbformat": 4,
 "nbformat_minor": 2
}
