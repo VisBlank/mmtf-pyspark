{
 "cells": [
  {
   "cell_type": "markdown",
   "metadata": {},
   "source": [
    "# Advanced Zinc Interaction Analysis Example\n",
    "\n",
    "<img src=\"./figures/zinc_interaction.png\" style=\"width: 300px;\"/>\n",
    "\n",
    "## Imports"
   ]
  },
  {
   "cell_type": "code",
   "execution_count": 1,
   "metadata": {
    "collapsed": false
   },
   "outputs": [],
   "source": [
    "from pyspark import SparkConf, SparkContext\n",
    "from pyspark.sql.functions import *\n",
    "from mmtfPyspark.datasets import groupInteractionExtractor\n",
    "from mmtfPyspark.io import MmtfReader\n",
    "from mmtfPyspark.webfilters import blastCluster"
   ]
  },
  {
   "cell_type": "markdown",
   "metadata": {},
   "source": [
    "## Configure Spark"
   ]
  },
  {
   "cell_type": "code",
   "execution_count": 2,
   "metadata": {
    "collapsed": true
   },
   "outputs": [],
   "source": [
    "conf = SparkConf().setMaster(\"local[*]\") \\\n",
    "                  .setAppName(\"advancedZincInteractionDemo\")\n",
    "\n",
    "sc = SparkContext(conf = conf)"
   ]
  },
  {
   "cell_type": "markdown",
   "metadata": {},
   "source": [
    "## Read PDB in MMTF format"
   ]
  },
  {
   "cell_type": "code",
   "execution_count": 3,
   "metadata": {
    "collapsed": true
   },
   "outputs": [],
   "source": [
    "path = \"../../resources/mmtf_full_sample/\"\n",
    "\n",
    "pdb = MmtfReader.readSequenceFile(path, sc)"
   ]
  },
  {
   "cell_type": "markdown",
   "metadata": {},
   "source": [
    "# Use only representative structures"
   ]
  },
  {
   "cell_type": "code",
   "execution_count": 4,
   "metadata": {
    "collapsed": true
   },
   "outputs": [],
   "source": [
    "sequenceIdentity = 40\n",
    "\n",
    "pdb = pdb.filter(blastCluster(sequenceIdentity))"
   ]
  },
  {
   "cell_type": "markdown",
   "metadata": {},
   "source": [
    "## Extract proteins with Zn interactions"
   ]
  },
  {
   "cell_type": "code",
   "execution_count": 5,
   "metadata": {
    "collapsed": false
   },
   "outputs": [],
   "source": [
    "finder = groupInteractionExtractor(\"ZN\",3)\n",
    "\n",
    "interactions = finder.getDataset(pdb).cache()"
   ]
  },
  {
   "cell_type": "markdown",
   "metadata": {},
   "source": [
    "## List the top 10 residue types that interact with Zn"
   ]
  },
  {
   "cell_type": "code",
   "execution_count": 12,
   "metadata": {
    "collapsed": false
   },
   "outputs": [
    {
     "name": "stdout",
     "output_type": "stream",
     "text": [
      "root\n",
      " |-- structureId: string (nullable = false)\n",
      " |-- residue1: string (nullable = false)\n",
      " |-- atom1: string (nullable = false)\n",
      " |-- element1: string (nullable = false)\n",
      " |-- index1: integer (nullable = false)\n",
      " |-- residue2: string (nullable = false)\n",
      " |-- atom2: string (nullable = false)\n",
      " |-- element2: string (nullable = false)\n",
      " |-- index2: integer (nullable = false)\n",
      " |-- distance: float (nullable = false)\n",
      "\n",
      "+-----------+--------+-----+--------+------+--------+-----+--------+------+---------+\n",
      "|structureId|residue1|atom1|element1|index1|residue2|atom2|element2|index2| distance|\n",
      "+-----------+--------+-----+--------+------+--------+-----+--------+------+---------+\n",
      "|       5B4E|      ZN|   ZN|      Zn|   303|     CYS|   SG|       S|     1|2.1902573|\n",
      "|       5B4E|      ZN|   ZN|      Zn|   303|     CYS|   SG|       S|     4| 2.206233|\n",
      "|       5B4E|      ZN|   ZN|      Zn|   303|     CYS|   SG|       S|    20|2.2135682|\n",
      "|       5B4E|      ZN|   ZN|      Zn|   303|     HIS|  ND1|       N|    23|2.1949353|\n",
      "|       5B4E|      ZN|   ZN|      Zn|   304|     CYS|   SG|       S|   258|2.4936273|\n",
      "|       5B4E|      ZN|   ZN|      Zn|   304|     CYS|   SG|       S|   261|  2.36105|\n",
      "|       5B4E|      ZN|   ZN|      Zn|   304|     CYS|   SG|       S|   270|2.2928994|\n",
      "|       5B4E|      ZN|   ZN|      Zn|   304|     CYS|   SG|       S|   273|2.3168228|\n",
      "|       5B4F|      ZN|   ZN|      Zn|   300|     CYS|   SG|       S|     1|2.2269914|\n",
      "|       5B4F|      ZN|   ZN|      Zn|   300|     CYS|   SG|       S|     4|2.2522612|\n",
      "|       5B4F|      ZN|   ZN|      Zn|   300|     CYS|   SG|       S|    20|2.2537496|\n",
      "|       5B4F|      ZN|   ZN|      Zn|   300|     HIS|  ND1|       N|    23|2.1646144|\n",
      "|       5B4F|      ZN|   ZN|      Zn|   301|     CYS|   SG|       S|   251|2.4191225|\n",
      "|       5B4F|      ZN|   ZN|      Zn|   301|     CYS|   SG|       S|   254|2.4240537|\n",
      "|       5B4F|      ZN|   ZN|      Zn|   301|     CYS|   SG|       S|   263|2.2808423|\n",
      "|       5B4F|      ZN|   ZN|      Zn|   301|     CYS|   SG|       S|   266|2.3353205|\n",
      "|       5GHA|      ZN|   ZN|      Zn|  1476|     CYS|   SG|       S|     1|2.3824308|\n",
      "|       5GHA|      ZN|   ZN|      Zn|  1476|     CYS|   SG|       S|     4| 2.469724|\n",
      "|       5GHA|      ZN|   ZN|      Zn|  1476|     CYS|   SG|       S|    20|2.3553555|\n",
      "|       5GHA|      ZN|   ZN|      Zn|  1476|     HIS|  ND1|       N|    23|2.1817138|\n",
      "+-----------+--------+-----+--------+------+--------+-----+--------+------+---------+\n",
      "only showing top 20 rows\n",
      "\n",
      "Number of interactions: 213725\n"
     ]
    }
   ],
   "source": [
    "interactions.printSchema()\n",
    "\n",
    "interactions.show(20)\n",
    "\n",
    "n = interactions.count()\n",
    "\n",
    "print(f\"Number of interactions: {n}\")"
   ]
  },
  {
   "cell_type": "markdown",
   "metadata": {},
   "source": [
    "## Show the top 10 interacting group/atom types\n",
    "\n",
    "#### Exclude Carbon Interactions"
   ]
  },
  {
   "cell_type": "code",
   "execution_count": 10,
   "metadata": {
    "collapsed": false
   },
   "outputs": [],
   "source": [
    "topGroupsAndAtoms = interactions.filter(\"element2 != 'C'\") \\\n",
    "                                .groupBy(\"residue2\",\"atom2\") \\\n",
    "                                .count()"
   ]
  },
  {
   "cell_type": "markdown",
   "metadata": {},
   "source": [
    "#### Add column with frequency of occurence\n",
    "#### Filter out occurrences < 1% \n",
    "#### Sort descending"
   ]
  },
  {
   "cell_type": "code",
   "execution_count": 13,
   "metadata": {
    "collapsed": false
   },
   "outputs": [
    {
     "name": "stdout",
     "output_type": "stream",
     "text": [
      "+--------+-----+-----+--------------------+\n",
      "|residue2|atom2|count|           frequency|\n",
      "+--------+-----+-----+--------------------+\n",
      "|     CYS|   SG|58943|   0.275788981167388|\n",
      "|     HIS|  NE2|28150| 0.13171131126447538|\n",
      "|     HOH|    O|14677| 0.06867235934027371|\n",
      "|     HIS|  ND1|12242| 0.05727921394315125|\n",
      "|     ASP|  OD2| 9515| 0.04451982688033688|\n",
      "|     ASP|  OD1| 7722|0.036130541583810974|\n",
      "|     GLU|  OE2| 6642| 0.03107731898467657|\n",
      "|     GLU|  OE1| 6210| 0.02905602994502281|\n",
      "+--------+-----+-----+--------------------+\n",
      "\n"
     ]
    }
   ],
   "source": [
    "topGroupsAndAtoms.withColumn(\"frequency\", topGroupsAndAtoms[\"count\"] / n) \\\n",
    "                 .filter(\"frequency > 0.01\") \\\n",
    "                 .sort(\"frequency\", ascending = False) \\\n",
    "                 .show(20)"
   ]
  },
  {
   "cell_type": "markdown",
   "metadata": {},
   "source": [
    "## Print the top interacting elements\n",
    "\n",
    "#### Exclude carbon interactions and group by element 2"
   ]
  },
  {
   "cell_type": "code",
   "execution_count": 14,
   "metadata": {
    "collapsed": true
   },
   "outputs": [],
   "source": [
    "topElements = interactions.filter(\"element2 != 'C'\") \\\n",
    "                          .groupBy(\"element2\") \\\n",
    "                          .count()"
   ]
  },
  {
   "cell_type": "markdown",
   "metadata": {},
   "source": [
    "#### Add column with frequencey of occurence\n",
    "#### Filter out occurence < 1%\n",
    "#### sort decending"
   ]
  },
  {
   "cell_type": "code",
   "execution_count": 15,
   "metadata": {
    "collapsed": false
   },
   "outputs": [
    {
     "name": "stdout",
     "output_type": "stream",
     "text": [
      "+--------+-----+--------------------+\n",
      "|element2|count|           frequency|\n",
      "+--------+-----+--------------------+\n",
      "|       S|59534|  0.2785542168674699|\n",
      "|       O|56347| 0.26364253129020937|\n",
      "|       N|44259|  0.2070838694584162|\n",
      "|       H| 4488|0.020998947245291846|\n",
      "+--------+-----+--------------------+\n",
      "\n"
     ]
    }
   ],
   "source": [
    "topElements.withColumn(\"frequency\", topElements[\"count\"] / n) \\\n",
    "           .filter(\"frequency > 0.01\") \\\n",
    "           .sort(\"frequency\", ascending = False) \\\n",
    "           .show(10)"
   ]
  },
  {
   "cell_type": "code",
   "execution_count": 18,
   "metadata": {
    "collapsed": false
   },
   "outputs": [
    {
     "name": "stdout",
     "output_type": "stream",
     "text": [
      "+--------+-------------------+\n",
      "|element2|      avg(distance)|\n",
      "+--------+-------------------+\n",
      "|      Co|0.06645968649536371|\n",
      "|      Mn| 0.2096691057085991|\n",
      "|      Ni| 0.8498532980680465|\n",
      "|      Cu| 0.8818441693050166|\n",
      "|      Mg| 1.0736593306064606|\n",
      "|      Fe| 1.3130454624382157|\n",
      "|      Na| 1.8720550934473674|\n",
      "|       N|  2.156085003504156|\n",
      "|       O|  2.276866027285148|\n",
      "|      Cl| 2.3067678366861646|\n",
      "+--------+-------------------+\n",
      "only showing top 10 rows\n",
      "\n"
     ]
    }
   ],
   "source": [
    "interactions.groupBy(\"element2\") \\\n",
    "            .avg(\"distance\") \\\n",
    "            .sort(\"avg(distance)\") \\\n",
    "            .show(10)"
   ]
  },
  {
   "cell_type": "markdown",
   "metadata": {},
   "source": [
    "## Aggregate multiple statistics\n",
    "\n",
    "### NOTE: from pyspark.sql.functions import * required"
   ]
  },
  {
   "cell_type": "code",
   "execution_count": 20,
   "metadata": {
    "collapsed": false
   },
   "outputs": [
    {
     "name": "stdout",
     "output_type": "stream",
     "text": [
      "+--------+---------------+------------------+-------------+-------------+-------------------+\n",
      "|element2|count(distance)|     avg(distance)|min(distance)|max(distance)| kurtosis(distance)|\n",
      "+--------+---------------+------------------+-------------+-------------+-------------------+\n",
      "|       K|              3|2.9527830282847085|    2.8704226|    2.9968925|-1.4999999999999991|\n",
      "|      Ca|              1|2.8027758598327637|    2.8027759|    2.8027759|                NaN|\n",
      "|      Fe|             12|1.3130454624382157|  0.013892444|    2.9888651|-1.8221410926403632|\n",
      "|       F|             45|2.6406656159294974|    1.5429283|    2.9912868| 0.9162421515636483|\n",
      "|      Ni|              5|0.8498532980680465|   0.14934523|     2.833429| 0.1082159795970754|\n",
      "|       B|             22| 2.802124402739785|    2.5698645|    2.9966402|-0.8277527697958345|\n",
      "|      Al|              2| 2.697709083557129|     2.542408|    2.8530102|-1.9999999999999993|\n",
      "|      As|             26|2.8578427754915676|    2.5419223|    2.9995463| 0.7183602616539102|\n",
      "|      Mg|             12|1.0736593306064606|          0.0|    2.9876716|-1.6866905996560124|\n",
      "|       V|              1|2.9511985778808594|    2.9511986|    2.9511986|                NaN|\n",
      "+--------+---------------+------------------+-------------+-------------+-------------------+\n",
      "only showing top 10 rows\n",
      "\n"
     ]
    }
   ],
   "source": [
    "interactions.groupBy(\"element2\") \\\n",
    "            .agg(count(\"distance\"), avg(\"distance\"), min(\"distance\"), max(\"distance\"), kurtosis(\"distance\")) \\\n",
    "            .show(10)"
   ]
  },
  {
   "cell_type": "markdown",
   "metadata": {
    "collapsed": true
   },
   "source": [
    "## Terminate Spark"
   ]
  },
  {
   "cell_type": "code",
   "execution_count": null,
   "metadata": {
    "collapsed": true
   },
   "outputs": [],
   "source": [
    "sc.stop()"
   ]
  }
 ],
 "metadata": {
  "kernelspec": {
   "display_name": "Python 3",
   "language": "python",
   "name": "python3"
  },
  "language_info": {
   "codemirror_mode": {
    "name": "ipython",
    "version": 3
   },
   "file_extension": ".py",
   "mimetype": "text/x-python",
   "name": "python",
   "nbconvert_exporter": "python",
   "pygments_lexer": "ipython3",
   "version": "3.6.0"
  }
 },
 "nbformat": 4,
 "nbformat_minor": 2
}
