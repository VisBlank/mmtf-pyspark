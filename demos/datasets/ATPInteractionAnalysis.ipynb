{
 "cells": [
  {
   "cell_type": "markdown",
   "metadata": {},
   "source": [
    "# ATP Interaction Anaylsis\n",
    "\n",
    "This demo shows how to create a dataset of ATP Interating atoms.\n",
    "\n",
    "## Imports"
   ]
  },
  {
   "cell_type": "code",
   "execution_count": 1,
   "metadata": {
    "collapsed": false
   },
   "outputs": [],
   "source": [
    "from pyspark import SparkConf, SparkContext, SQLContext\n",
    "from mmtfPyspark.datasets import groupInteractionExtractor\n",
    "from mmtfPyspark.io import MmtfReader\n",
    "from mmtfPyspark.webfilters import blastCluster\n",
    "import time"
   ]
  },
  {
   "cell_type": "markdown",
   "metadata": {},
   "source": [
    "## Configure Spark"
   ]
  },
  {
   "cell_type": "code",
   "execution_count": 2,
   "metadata": {
    "collapsed": false
   },
   "outputs": [],
   "source": [
    "conf = SparkConf().setMaster(\"local[*]\") \\\n",
    "                  .setAppName(\"ATPInteractionAnalysisDemo\")\n",
    "    \n",
    "sc = SparkContext(conf = conf)"
   ]
  },
  {
   "cell_type": "markdown",
   "metadata": {},
   "source": [
    "## Read PDB in MMTF format"
   ]
  },
  {
   "cell_type": "code",
   "execution_count": 3,
   "metadata": {
    "collapsed": false
   },
   "outputs": [],
   "source": [
    "path = \"../../resources/mmtf_full_sample/\"\n",
    "\n",
    "pdb = MmtfReader.readSequenceFile(path, sc)"
   ]
  },
  {
   "cell_type": "markdown",
   "metadata": {},
   "source": [
    "## Filter by sequence identity subset"
   ]
  },
  {
   "cell_type": "code",
   "execution_count": 4,
   "metadata": {
    "collapsed": true
   },
   "outputs": [],
   "source": [
    "pdb = pdb.filter(blastCluster(40))"
   ]
  },
  {
   "cell_type": "markdown",
   "metadata": {},
   "source": [
    "## Find ATP interactions within 3 Angstroms\n",
    "\n",
    "![ATPInteraction](./figures/atp-dist2.jpg)"
   ]
  },
  {
   "cell_type": "code",
   "execution_count": 5,
   "metadata": {
    "collapsed": true
   },
   "outputs": [],
   "source": [
    "finder = groupInteractionExtractor(\"ATP\", 3)\n",
    "\n",
    "interactions = finder.getDataset(pdb).cache()"
   ]
  },
  {
   "cell_type": "code",
   "execution_count": 6,
   "metadata": {
    "collapsed": true
   },
   "outputs": [],
   "source": [
    "interactions = interactions.filter(\"atom1 LIKE('O%G')\")"
   ]
  },
  {
   "cell_type": "markdown",
   "metadata": {},
   "source": [
    "## Show the data schema of the dataset and some data"
   ]
  },
  {
   "cell_type": "code",
   "execution_count": 7,
   "metadata": {
    "collapsed": false
   },
   "outputs": [
    {
     "name": "stdout",
     "output_type": "stream",
     "text": [
      "root\n",
      " |-- structureId: string (nullable = false)\n",
      " |-- residue1: string (nullable = false)\n",
      " |-- atom1: string (nullable = false)\n",
      " |-- element1: string (nullable = false)\n",
      " |-- index1: integer (nullable = false)\n",
      " |-- residue2: string (nullable = false)\n",
      " |-- atom2: string (nullable = false)\n",
      " |-- element2: string (nullable = false)\n",
      " |-- index2: integer (nullable = false)\n",
      " |-- distance: float (nullable = false)\n",
      "\n",
      "+-----------+--------+-----+--------+------+--------+-----+--------+------+---------+\n",
      "|structureId|residue1|atom1|element1|index1|residue2|atom2|element2|index2| distance|\n",
      "+-----------+--------+-----+--------+------+--------+-----+--------+------+---------+\n",
      "|       1FIN|     ATP|  O2G|       O|  1116|     HOH|    O|       O|  1242| 2.811164|\n",
      "|       1FIN|     ATP|  O2G|       O|  1117|     GLY|    O|       O|   570|2.7497313|\n",
      "|       1FIN|     ATP|  O1G|       O|  1117|     THR|  OG1|       O|   571|2.8906834|\n",
      "|       1FIN|     ATP|  O2G|       O|  1117|     THR|  OG1|       O|   571|2.6109483|\n",
      "|       1FMW|     ATP|  O2G|       O|   739|     SER|   OG|       O|   179| 2.282766|\n",
      "|       1FMW|     ATP|  O3G|       O|   739|     LYS|   NZ|       N|   183|2.8148727|\n",
      "|       1FMW|     ATP|  O2G|       O|   739|     SER|   OG|       O|   228|2.3734312|\n",
      "|       1FMW|     ATP|  O1G|       O|   739|     SER|    N|       N|   229|2.7907338|\n",
      "|       1FMW|     ATP|  O1G|       O|   739|      MG|   MG|      Mg|   738|2.2409809|\n",
      "|       1FMW|     ATP|  O3G|       O|   739|     HOH|    O|       O|   797|2.8356788|\n",
      "|       1FQ1|     ATP|  O2G|       O|   480|     ASN|  OD1|       O|   314|2.6222196|\n",
      "|       1FQ1|     ATP|  O2G|       O|   480|     ASN|  ND2|       N|   314|2.9340653|\n",
      "|       1FQ1|     ATP|  O1G|       O|   480|      MG|   MG|      Mg|   479| 2.475823|\n",
      "|       1FQ1|     ATP|  O2G|       O|   480|      MG|   MG|      Mg|   479|2.6076355|\n",
      "|       1E24|     ATP|  O1G|       O|   486|     HIS|  NE2|       N|   252| 2.868593|\n",
      "|       1E24|     ATP|  O3G|       O|   486|     GLU|  OE1|       O|   403|2.8418283|\n",
      "|       1E24|     ATP|  O2G|       O|   486|     ARG|  NH1|       N|   462|2.7233603|\n",
      "|       1E24|     ATP|  O2G|       O|   486|     ARG|  NH2|       N|   462|2.7365127|\n",
      "|       1E24|     ATP|  O1G|       O|   486|      MN|   MN|      Mn|   488|2.1603975|\n",
      "|       1E24|     ATP|  O3G|       O|   486|      MN|   MN|      Mn|   489|2.3107014|\n",
      "+-----------+--------+-----+--------+------+--------+-----+--------+------+---------+\n",
      "only showing top 20 rows\n",
      "\n"
     ]
    }
   ],
   "source": [
    "interactions.printSchema()\n",
    "\n",
    "interactions.show(20)"
   ]
  },
  {
   "cell_type": "markdown",
   "metadata": {},
   "source": [
    "## Count number of interactions"
   ]
  },
  {
   "cell_type": "code",
   "execution_count": 8,
   "metadata": {
    "collapsed": false
   },
   "outputs": [
    {
     "name": "stdout",
     "output_type": "stream",
     "text": [
      "Number of interactions: 249\n"
     ]
    }
   ],
   "source": [
    "n = interactions.count()\n",
    "\n",
    "print(f\"Number of interactions: {n}\")"
   ]
  },
  {
   "cell_type": "markdown",
   "metadata": {},
   "source": [
    "## Identify top interacting groups"
   ]
  },
  {
   "cell_type": "code",
   "execution_count": 9,
   "metadata": {
    "collapsed": false
   },
   "outputs": [
    {
     "name": "stdout",
     "output_type": "stream",
     "text": [
      "+--------+-----+\n",
      "|residue2|count|\n",
      "+--------+-----+\n",
      "|     HOH|   70|\n",
      "|      MG|   37|\n",
      "|     OXL|   27|\n",
      "|     ARG|   27|\n",
      "|     SER|   15|\n",
      "|     ASP|   10|\n",
      "|     THR|    9|\n",
      "|     LYS|    9|\n",
      "|     ASN|    6|\n",
      "|       K|    6|\n",
      "+--------+-----+\n",
      "only showing top 10 rows\n",
      "\n"
     ]
    }
   ],
   "source": [
    "topGroups = interactions.groupBy(\"residue2\").count()\n",
    "\n",
    "topGroups.sort(\"count\", ascending = False).show(10) # Sort descending by count"
   ]
  },
  {
   "cell_type": "markdown",
   "metadata": {},
   "source": [
    "## Top interacting groups/atoms types"
   ]
  },
  {
   "cell_type": "code",
   "execution_count": 10,
   "metadata": {
    "collapsed": false
   },
   "outputs": [
    {
     "name": "stdout",
     "output_type": "stream",
     "text": [
      "+--------+-----+-----+--------------------+\n",
      "|residue2|atom2|count|           frequency|\n",
      "+--------+-----+-----+--------------------+\n",
      "|     HOH|    O|   65| 0.26104417670682734|\n",
      "|      MG|   MG|   37| 0.14859437751004015|\n",
      "|     ARG|  NH2|   20| 0.08032128514056225|\n",
      "|     OXL|   O1|   12| 0.04819277108433735|\n",
      "|     SER|   OG|   10|0.040160642570281124|\n",
      "|     OXL|   O3|    9| 0.03614457831325301|\n",
      "|     THR|  OG1|    7|0.028112449799196786|\n",
      "|     LYS|   NZ|    7|0.028112449799196786|\n",
      "|     ASP|  OD2|    6|0.024096385542168676|\n",
      "|       K|    K|    6|0.024096385542168676|\n",
      "+--------+-----+-----+--------------------+\n",
      "only showing top 10 rows\n",
      "\n"
     ]
    }
   ],
   "source": [
    "topGroupsAndAtoms = interactions.groupBy(\"residue2\",\"atom2\").count()\n",
    "\n",
    "topGroupsAndAtoms.withColumn(\"frequency\", topGroupsAndAtoms[\"count\"] / n)\\\n",
    "                 .sort(\"frequency\", ascending = False) \\\n",
    "                 .show(10)"
   ]
  },
  {
   "cell_type": "markdown",
   "metadata": {
    "collapsed": true
   },
   "source": [
    "# Terminate Spark"
   ]
  },
  {
   "cell_type": "code",
   "execution_count": 11,
   "metadata": {
    "collapsed": true
   },
   "outputs": [],
   "source": [
    "sc.stop()"
   ]
  }
 ],
 "metadata": {
  "kernelspec": {
   "display_name": "Python 3",
   "language": "python",
   "name": "python3"
  },
  "language_info": {
   "codemirror_mode": {
    "name": "ipython",
    "version": 3
   },
   "file_extension": ".py",
   "mimetype": "text/x-python",
   "name": "python",
   "nbconvert_exporter": "python",
   "pygments_lexer": "ipython3",
   "version": "3.6.0"
  }
 },
 "nbformat": 4,
 "nbformat_minor": 2
}
