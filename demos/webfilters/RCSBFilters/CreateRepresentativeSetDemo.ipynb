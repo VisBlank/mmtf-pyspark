{
 "cells": [
  {
   "cell_type": "markdown",
   "metadata": {},
   "source": [
    "# Create Representative Set Demo\n",
    "\n",
    "This Demo shows how to create a representative set by reading in Hadoop sequence files, filter by BlastClusters, flatMap to polymerChains, and filter again AMINO_ACIDS polymer composition.\n",
    "\n",
    "![RCSB PDB](https://cdn.rcsb.org/rcsb-pdb/v2/common/images/Logo_wwpdb.png)\n",
    "\n",
    "## Imports"
   ]
  },
  {
   "cell_type": "code",
   "execution_count": 2,
   "metadata": {
    "collapsed": true
   },
   "outputs": [],
   "source": [
    "from pyspark import SparkConf, SparkContext\n",
    "from mmtfPyspark.io import MmtfReader, MmtfWriter\n",
    "from mmtfPyspark.mappers import structureToPolymerChains\n",
    "from mmtfPyspark.filters import polymerComposition\n",
    "from mmtfPyspark.webfilters import blastCluster"
   ]
  },
  {
   "cell_type": "markdown",
   "metadata": {},
   "source": [
    "## Configure Spark"
   ]
  },
  {
   "cell_type": "code",
   "execution_count": 3,
   "metadata": {
    "collapsed": true
   },
   "outputs": [],
   "source": [
    "conf = SparkConf().setMaster(\"local[*]\") \\\n",
    "                  .setAppName(\"CreateRepresentativeSetDemo\")\n",
    "sc = SparkContext(conf = conf)"
   ]
  },
  {
   "cell_type": "markdown",
   "metadata": {},
   "source": [
    "## Read in Haddop Sequence Files"
   ]
  },
  {
   "cell_type": "code",
   "execution_count": 4,
   "metadata": {
    "collapsed": true
   },
   "outputs": [],
   "source": [
    "path = \"../../resources/mmtf_full_sample/\"\n",
    "\n",
    "pdb = MmtfReader.readSequenceFile(path, sc)"
   ]
  },
  {
   "cell_type": "markdown",
   "metadata": {},
   "source": [
    "## Filter by representative protein chains at 40% sequence identity"
   ]
  },
  {
   "cell_type": "code",
   "execution_count": 7,
   "metadata": {
    "collapsed": false
   },
   "outputs": [],
   "source": [
    "sequenceIdentity = 40\n",
    "\n",
    "pdb = pdb.filter(blastCluster(sequenceIdentity)) \\\n",
    "         .flatMap(structureToPolymerChains()) \\\n",
    "         .filter(blastCluster(sequenceIdentity)) \\\n",
    "         .filter(polymerComposition(polymerComposition.AMINO_ACIDS_20))"
   ]
  },
  {
   "cell_type": "markdown",
   "metadata": {},
   "source": [
    "## Show top 10 structures"
   ]
  },
  {
   "cell_type": "code",
   "execution_count": 10,
   "metadata": {
    "collapsed": false
   },
   "outputs": [
    {
     "data": {
      "text/plain": [
       "[('1FYF.B', <mmtf.api.mmtf_writer.MMTFEncoder at 0x7f874dd8b8d0>),\n",
       " ('1FYF.A', <mmtf.api.mmtf_writer.MMTFEncoder at 0x7f874d58c4e0>),\n",
       " ('1FYE.A', <mmtf.api.mmtf_writer.MMTFEncoder at 0x7f874d58c828>),\n",
       " ('1FYD.B', <mmtf.api.mmtf_writer.MMTFEncoder at 0x7f874da36898>),\n",
       " ('1FYD.A', <mmtf.api.mmtf_writer.MMTFEncoder at 0x7f874db837b8>),\n",
       " ('1FYC.A', <mmtf.api.mmtf_writer.MMTFEncoder at 0x7f874db83940>),\n",
       " ('1FYB.A', <mmtf.api.mmtf_writer.MMTFEncoder at 0x7f874d2bfb00>),\n",
       " ('1FYA.A', <mmtf.api.mmtf_writer.MMTFEncoder at 0x7f874d19bcf8>),\n",
       " ('1FY9.A', <mmtf.api.mmtf_writer.MMTFEncoder at 0x7f874d0541d0>),\n",
       " ('1FY7.A', <mmtf.api.mmtf_writer.MMTFEncoder at 0x7f874cf0a518>)]"
      ]
     },
     "execution_count": 10,
     "metadata": {},
     "output_type": "execute_result"
    }
   ],
   "source": [
    "pdb.top(10)"
   ]
  },
  {
   "cell_type": "markdown",
   "metadata": {},
   "source": [
    "## Save representative set"
   ]
  },
  {
   "cell_type": "code",
   "execution_count": 13,
   "metadata": {
    "collapsed": false
   },
   "outputs": [],
   "source": [
    "write_path = f'./pdb_representatives_{sequenceIdentity}'\n",
    "\n",
    "MmtfWriter.writeSequenceFile(write_path, sc, pdb)"
   ]
  },
  {
   "cell_type": "markdown",
   "metadata": {},
   "source": [
    "## Terminate Spark"
   ]
  },
  {
   "cell_type": "code",
   "execution_count": 14,
   "metadata": {
    "collapsed": true
   },
   "outputs": [],
   "source": [
    "sc.stop()"
   ]
  }
 ],
 "metadata": {
  "kernelspec": {
   "display_name": "Python 3",
   "language": "python",
   "name": "python3"
  },
  "language_info": {
   "codemirror_mode": {
    "name": "ipython",
    "version": 3
   },
   "file_extension": ".py",
   "mimetype": "text/x-python",
   "name": "python",
   "nbconvert_exporter": "python",
   "pygments_lexer": "ipython3",
   "version": "3.6.0"
  }
 },
 "nbformat": 4,
 "nbformat_minor": 2
}
