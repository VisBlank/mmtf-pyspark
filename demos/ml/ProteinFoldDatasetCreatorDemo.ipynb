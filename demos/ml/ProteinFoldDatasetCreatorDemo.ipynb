{
 "cells": [
  {
   "cell_type": "markdown",
   "metadata": {},
   "source": [
    "# Protein Fold Dataset Creator Dmeo\n",
    "\n",
    "This Demo is a simple example of using Dataset operations to create a datset\n",
    "\n",
    "## Imports"
   ]
  },
  {
   "cell_type": "code",
   "execution_count": 1,
   "metadata": {
    "collapsed": true
   },
   "outputs": [],
   "source": [
    "from pyspark import SparkConf, SparkContext, SQLContext\n",
    "from pyspark.sql.functions import col, when\n",
    "from mmtfPyspark.ml import proteinSequenceEncoder\n",
    "from mmtfPyspark.mappers import structureToPolymerChains\n",
    "from mmtfPyspark.webfilters import blastCluster\n",
    "from mmtfPyspark.filters import containsLProteinChain\n",
    "from mmtfPyspark.datasets import secondaryStructureExtractor\n",
    "from mmtfPyspark.webfilters import pisces\n",
    "from mmtfPyspark.io import MmtfReader"
   ]
  },
  {
   "cell_type": "markdown",
   "metadata": {},
   "source": [
    "## Define addProteinFoldType Class"
   ]
  },
  {
   "cell_type": "code",
   "execution_count": 2,
   "metadata": {
    "collapsed": true
   },
   "outputs": [],
   "source": [
    "def addProteinFoldType(data, minThreshold, maxThreshold):\n",
    "    '''\n",
    "    Adds a column \"foldType\" with three major secondary structure class:\n",
    "    \"alpha\", \"beta\", \"alpha+beta\", and \"other\" based upon the fraction of alpha/beta content.\n",
    "\n",
    "    The simplified syntax used in this method relies on two imports:\n",
    "        from pyspark.sql.functions import when\n",
    "        from pyspark.sql.functions import col\n",
    "\n",
    "    Attributes:\n",
    "        data (Dataset<Row>): input dataset with alpha, beta composition\n",
    "        minThreshold (float): below this threshold, the secondary structure is ignored\n",
    "        maxThreshold (float): above this threshold, the secondary structure is ignored\n",
    "    '''\n",
    "\n",
    "    return data.withColumn(\"foldType\", \\\n",
    "                           when((col(\"alpha\") > maxThreshold) & (col(\"beta\") < minThreshold), \"alpha\"). \\\n",
    "                           when((col(\"beta\") > maxThreshold) & (col(\"alpha\") < minThreshold), \"beta\"). \\\n",
    "                           when((col(\"alpha\") > maxThreshold) & (col(\"beta\") < minThreshold), \"alpha+beta\"). \\\n",
    "                           otherwise(\"other\")\\\n",
    "                           )"
   ]
  },
  {
   "cell_type": "markdown",
   "metadata": {},
   "source": [
    "## Configure Spark Context"
   ]
  },
  {
   "cell_type": "code",
   "execution_count": 3,
   "metadata": {
    "collapsed": false
   },
   "outputs": [],
   "source": [
    "conf = SparkConf() \\\n",
    "            .setMaster(\"local[*]\") \\\n",
    "            .setAppName(\"ProteinFoldDatasetCreatorDemo\")\n",
    "\n",
    "sc = SparkContext(conf = conf)"
   ]
  },
  {
   "cell_type": "markdown",
   "metadata": {},
   "source": [
    "## Read MMTF Hadoop sequence file\n",
    "\n",
    "Create non-redundant set (<=40% seq. identity) if L-protein chains"
   ]
  },
  {
   "cell_type": "code",
   "execution_count": 4,
   "metadata": {
    "collapsed": false
   },
   "outputs": [],
   "source": [
    "path = \"../../resources/mmtf_reduced_sample/\"\n",
    "sequenceIdentity = 40\n",
    "\n",
    "pdb = MmtfReader \\\n",
    "        .readSequenceFile(path, sc) \\\n",
    "        .filter(blastCluster(sequenceIdentity)) \\\n",
    "        .flatMap(structureToPolymerChains()) \\\n",
    "        .filter(blastCluster(sequenceIdentity)) \\\n",
    "        .filter(containsLProteinChain())"
   ]
  },
  {
   "cell_type": "markdown",
   "metadata": {},
   "source": [
    "## Get secondary structure content"
   ]
  },
  {
   "cell_type": "code",
   "execution_count": 5,
   "metadata": {
    "collapsed": true
   },
   "outputs": [],
   "source": [
    "data = secondaryStructureExtractor.getDataset(pdb)"
   ]
  },
  {
   "cell_type": "markdown",
   "metadata": {},
   "source": [
    "## Classify chains by secondary structure type"
   ]
  },
  {
   "cell_type": "code",
   "execution_count": 6,
   "metadata": {
    "collapsed": true
   },
   "outputs": [],
   "source": [
    "minThreshold = 0.05\n",
    "maxThreshold = 0.15\n",
    "data = addProteinFoldType(data, minThreshold, maxThreshold)"
   ]
  },
  {
   "cell_type": "markdown",
   "metadata": {},
   "source": [
    "## Add Word2Vec encoded feature vector"
   ]
  },
  {
   "cell_type": "code",
   "execution_count": 7,
   "metadata": {
    "collapsed": false
   },
   "outputs": [
    {
     "name": "stdout",
     "output_type": "stream",
     "text": [
      "root\n",
      " |-- structureChainId: string (nullable = false)\n",
      " |-- sequence: string (nullable = false)\n",
      " |-- alpha: float (nullable = false)\n",
      " |-- beta: float (nullable = false)\n",
      " |-- coil: float (nullable = false)\n",
      " |-- dsspQ8Code: string (nullable = false)\n",
      " |-- dsspQ3Code: string (nullable = false)\n",
      " |-- foldType: string (nullable = false)\n",
      " |-- ngram: array (nullable = true)\n",
      " |    |-- element: string (containsNull = true)\n",
      " |-- features: vector (nullable = true)\n",
      "\n",
      "+----------------+--------------------+-----------+----------+----------+--------------------+--------------------+--------+--------------------+--------------------+\n",
      "|structureChainId|            sequence|      alpha|      beta|      coil|          dsspQ8Code|          dsspQ3Code|foldType|               ngram|            features|\n",
      "+----------------+--------------------+-----------+----------+----------+--------------------+--------------------+--------+--------------------+--------------------+\n",
      "|          1FDK.A|ALWQFNGMIKCKIPSSE...|  0.4796748|0.08943089|0.43089432|CHHHHHHHHHHHCTTCC...|CHHHHHHHHHHHCCCCC...|   other|[AL, LW, WQ, QF, ...|[0.33268375846473...|\n",
      "|          1FDL.L|DIQMTQSPASLSASVGE...|0.060747664| 0.5046729|0.43457943|CCCEEEECSEEEECTTC...|CCCEEEECCEEEECCCC...|   other|[DI, IQ, QM, MT, ...|[0.18110659749448...|\n",
      "|          1FDL.H|QVQLKESGPGLVAPSQS...|0.055045873| 0.5091743| 0.4357798|CCEEEEECCSEECTTSC...|CCEEEEECCCEECCCCC...|   other|[QV, VQ, QL, LK, ...|[-0.0615457752140...|\n",
      "|          1FDL.Y|KVFGRCELAAAMKRHGL...| 0.41860464|0.11627907| 0.4651163|CBCCHHHHHHHHHHTTC...|CECCHHHHHHHHHHCCC...|   other|[KV, VF, FG, GR, ...|[0.21163045239518...|\n",
      "|          1FDM.A|AEGDDPAKAAFDSLQAS...|        0.5|       0.0|       0.5|CCSSCTTHHHHHHHHHS...|CCCCCCCHHHHHHHHHC...|   alpha|[AE, EG, GD, DD, ...|[-0.1784528120401...|\n",
      "|          1FDN.A|AYVINEACISCGACEPE...| 0.14545454|0.21818182| 0.6363636|CEEECTTCCCCCCSGGG...|CEEECCCCCCCCCCHHH...|   other|[AY, YV, VI, IN, ...|[-0.2569646641474...|\n",
      "|          1FDO.A|MKKVVTVCPYCASGCKI...| 0.37062937|0.17202798|0.45734265|CEEEEEECSSBTTCCEE...|CEEEEEECCCECCCCEE...|   other|[MK, KK, KV, VV, ...|[-0.1180968281287...|\n",
      "|          1FDP.A|AAPPRGRILGGREAEAH...|0.108597286| 0.3484163|0.54298645|XXXXXXXCCCCSSSCCC...|XXXXXXXCCCCCCCCCC...|   other|[AA, AP, PP, PR, ...|[-0.3794333174601...|\n",
      "|          1FDP.B|AAPPRGRILGGREAEAH...| 0.09950249|0.38308457|0.51741296|XXXXXXXXXXXXXCCCC...|XXXXXXXXXXXXXCCCC...|   other|[AA, AP, PP, PR, ...|[-0.3794333174601...|\n",
      "|          1FDP.C|AAPPRGRILGGREAEAH...| 0.10050251|0.38693467| 0.5125628|XXXXXXXXXXXXXCCCC...|XXXXXXXXXXXXXCCCC...|   other|[AA, AP, PP, PR, ...|[-0.3794333174601...|\n",
      "+----------------+--------------------+-----------+----------+----------+--------------------+--------------------+--------+--------------------+--------------------+\n",
      "only showing top 10 rows\n",
      "\n"
     ]
    }
   ],
   "source": [
    "encoder = proteinSequenceEncoder(data)\n",
    "n = 2 # Create 2-grams\n",
    "windowSize = 25 # 25-amino residue window size for Word2Vec\n",
    "vectorSize = 50 # dimension of feature vector\n",
    "data = encoder.overlappingNgramWord2VecEncode(n, windowSize, vectorSize).cache()\n",
    "\n",
    "data.printSchema()\n",
    "data.show(10)"
   ]
  },
  {
   "cell_type": "markdown",
   "metadata": {},
   "source": [
    "## Keep only a subset of relevant fields for futher processing"
   ]
  },
  {
   "cell_type": "code",
   "execution_count": 8,
   "metadata": {
    "collapsed": false
   },
   "outputs": [
    {
     "name": "stdout",
     "output_type": "stream",
     "text": [
      "+----------------+-----------+----------+----------+--------+--------------------+\n",
      "|structureChainId|      alpha|      beta|      coil|foldType|            features|\n",
      "+----------------+-----------+----------+----------+--------+--------------------+\n",
      "|          1FDK.A|  0.4796748|0.08943089|0.43089432|   other|[0.33268375846473...|\n",
      "|          1FDL.L|0.060747664| 0.5046729|0.43457943|   other|[0.18110659749448...|\n",
      "|          1FDL.H|0.055045873| 0.5091743| 0.4357798|   other|[-0.0615457752140...|\n",
      "|          1FDL.Y| 0.41860464|0.11627907| 0.4651163|   other|[0.21163045239518...|\n",
      "|          1FDM.A|        0.5|       0.0|       0.5|   alpha|[-0.1784528120401...|\n",
      "|          1FDN.A| 0.14545454|0.21818182| 0.6363636|   other|[-0.2569646641474...|\n",
      "|          1FDO.A| 0.37062937|0.17202798|0.45734265|   other|[-0.1180968281287...|\n",
      "|          1FDP.A|0.108597286| 0.3484163|0.54298645|   other|[-0.3794333174601...|\n",
      "|          1FDP.B| 0.09950249|0.38308457|0.51741296|   other|[-0.3794333174601...|\n",
      "|          1FDP.C| 0.10050251|0.38693467| 0.5125628|   other|[-0.3794333174601...|\n",
      "+----------------+-----------+----------+----------+--------+--------------------+\n",
      "only showing top 10 rows\n",
      "\n"
     ]
    }
   ],
   "source": [
    "data = data.select(\"structureChainId\", \"alpha\", \"beta\", \"coil\", \"foldType\", \"features\")\n",
    "\n",
    "data.show(10)"
   ]
  },
  {
   "cell_type": "markdown",
   "metadata": {},
   "source": [
    "## Terminate Spark Context"
   ]
  },
  {
   "cell_type": "code",
   "execution_count": 9,
   "metadata": {
    "collapsed": true
   },
   "outputs": [],
   "source": [
    "sc.stop()"
   ]
  }
 ],
 "metadata": {
  "kernelspec": {
   "display_name": "Python 3",
   "language": "python",
   "name": "python3"
  },
  "language_info": {
   "codemirror_mode": {
    "name": "ipython",
    "version": 3
   },
   "file_extension": ".py",
   "mimetype": "text/x-python",
   "name": "python",
   "nbconvert_exporter": "python",
   "pygments_lexer": "ipython3",
   "version": "3.6.0"
  }
 },
 "nbformat": 4,
 "nbformat_minor": 2
}
